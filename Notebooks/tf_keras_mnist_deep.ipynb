{
  "nbformat": 4,
  "nbformat_minor": 0,
  "metadata": {
    "colab": {
      "name": "tf.keras_mnist_deep.ipynb",
      "provenance": [],
      "collapsed_sections": [
        "BzzDMryNsGZV",
        "i7dx_4V38Qfm",
        "omdwB1KRswta",
        "VlaCFqlDy4dC",
        "2ScoLr1J2ZcC",
        "fo2FUMVL4bK6"
      ]
    },
    "kernelspec": {
      "name": "python3",
      "display_name": "Python 3"
    }
  },
  "cells": [
    {
      "cell_type": "markdown",
      "metadata": {
        "id": "BzzDMryNsGZV"
      },
      "source": [
        "#Tutorial: Deep Neural Networks\n",
        "In this tutorial we will train a deep NN on the MNIST data set using Rectified Linear Unit (ReLU) activation in the hidden units and early stopping.  We will assume a 'sequential' model, densely connected layers and the RMSprop optimizer which are described in detail in the Tensorflow Keras documentation (see https://www.tensorflow.org/api_docs/python/tf/keras)"
      ]
    },
    {
      "cell_type": "markdown",
      "metadata": {
        "id": "i7dx_4V38Qfm"
      },
      "source": [
        "#Step 0 - Setup the learning environment\n",
        "\n",
        "To begin, we import the Keras modules and functions that we will use, plus some plotting tools and then we set up the high-level learning parameters.  "
      ]
    },
    {
      "cell_type": "code",
      "metadata": {
        "id": "dOLnEljVzAGY",
        "outputId": "d5f26a4c-57fd-4e9d-e618-b9be16be753c",
        "colab": {
          "base_uri": "https://localhost:8080/",
          "height": 73
        }
      },
      "source": [
        "import numpy as np\n",
        "import matplotlib.pyplot as plt\n",
        "import math\n",
        "\n",
        "import tensorflow as tf\n",
        "from tensorflow.keras import layers\n",
        "from tensorflow.keras.datasets import mnist\n",
        "\n",
        "import warnings\n",
        "warnings.filterwarnings('ignore')\n",
        "\n",
        "np.random.seed(1)\n",
        "\n",
        "train_size = 30000\n",
        "batch_size = 128\n",
        "num_classes = 10\n",
        "epochs = 10\n",
        "\n",
        "print(tf.__version__)\n",
        "print(tf.keras.__version__)\n",
        "\n",
        "print('Environment setup complete!')\n"
      ],
      "execution_count": 2,
      "outputs": [
        {
          "output_type": "stream",
          "text": [
            "2.3.0\n",
            "2.4.0\n",
            "Environment setup complete!\n"
          ],
          "name": "stdout"
        }
      ]
    },
    {
      "cell_type": "markdown",
      "metadata": {
        "id": "omdwB1KRswta"
      },
      "source": [
        "#Step 1 - Load and prepare the data\n",
        "Note that we have 60k records for training (10k of which will be set aside for validation or 'tuning', the remaining 50k go toward the 'train' partition) and an additional 10k (*unseen*) test records.  The 784 dimension indicates flattening of the images that come as squares by default in the MNIST set. The class vectors are converted to 'categorical' labels for compatibility with Keras. The to_categorical function simply converts a class vector (integers) to binary class matrix."
      ]
    },
    {
      "cell_type": "code",
      "metadata": {
        "id": "lx_OY0a5xaXx",
        "outputId": "e34ced83-ed2d-4712-8c67-fe7627648047",
        "colab": {
          "base_uri": "https://localhost:8080/",
          "height": 36
        }
      },
      "source": [
        "math.sqrt(784)"
      ],
      "execution_count": 3,
      "outputs": [
        {
          "output_type": "execute_result",
          "data": {
            "text/plain": [
              "28.0"
            ]
          },
          "metadata": {
            "tags": []
          },
          "execution_count": 3
        }
      ]
    },
    {
      "cell_type": "code",
      "metadata": {
        "id": "uRrZS2S-u7gB",
        "outputId": "08012d04-978d-4c9b-b537-0c17711eb4e9",
        "colab": {
          "base_uri": "https://localhost:8080/",
          "height": 110
        }
      },
      "source": [
        "# Load the train and test sets \n",
        "(x_train, y_train), (x_test, y_test) = mnist.load_data()\n",
        "\n",
        "x_train = x_train.reshape(60000, 784)\n",
        "x_tune = x_train[50000:60000]\n",
        "x_train = x_train[0:train_size]\n",
        "x_test = x_test.reshape(10000, 784)\n",
        "x_train = x_train.astype('float32')\n",
        "x_tune = x_tune.astype('float32')\n",
        "x_test = x_test.astype('float32')\n",
        "x_train /= 255\n",
        "x_tune /= 255\n",
        "x_test /= 255\n",
        "\n",
        "# Print how many of each\n",
        "print(x_train.shape[0], 'train samples')\n",
        "print(x_tune.shape[0], 'tune samples')\n",
        "print(x_test.shape[0], 'test samples')\n",
        "\n",
        "# Convert class vectors to binary class matrices\n",
        "y_tune = tf.keras.utils.to_categorical(y_train[50000:60000], num_classes)\n",
        "y_train = tf.keras.utils.to_categorical(y_train[0:train_size], num_classes)\n",
        "y_test = tf.keras.utils.to_categorical(y_test, num_classes)"
      ],
      "execution_count": 4,
      "outputs": [
        {
          "output_type": "stream",
          "text": [
            "Downloading data from https://storage.googleapis.com/tensorflow/tf-keras-datasets/mnist.npz\n",
            "11493376/11490434 [==============================] - 0s 0us/step\n",
            "30000 train samples\n",
            "10000 tune samples\n",
            "10000 test samples\n"
          ],
          "name": "stdout"
        }
      ]
    },
    {
      "cell_type": "markdown",
      "metadata": {
        "id": "VlaCFqlDy4dC"
      },
      "source": [
        "#Step 2 - Architecture defintion\n",
        "This model will consist of five layers (in, out and three hidden layers).  Note that we will assume a dropout rate of 0.2 meaning that there is a 20% chance that any given unit will become unavailable at each training epoch.  \n",
        "\n",
        "RMSprop:\tOptimizer keeps\ta\tmoving\taverage\tof\tthe\tsquared\tgradient\tfor\teach\tweight.[http://www.cs.toronto.edu/~tijmen/csc321/slides/lecture_slides_lec6.pdf] \n",
        "\n",
        "A lot more about the sequential model API that we are using here can be found at: [https://keras.io/models/sequential/]"
      ]
    },
    {
      "cell_type": "code",
      "metadata": {
        "id": "FuDOR5d1zpw_",
        "outputId": "723c8758-5287-42c7-cd27-3a0f8394e086",
        "colab": {
          "base_uri": "https://localhost:8080/",
          "height": 0
        }
      },
      "source": [
        "model = tf.keras.Sequential()\n",
        "\n",
        "# Model consists of five layers as below\n",
        "# Note: we do not explicitly define an input layer\n",
        "model.add(layers.Dense(512, activation='relu', input_shape=(784,)))\n",
        "model.add(layers.Dropout(0.2))\n",
        "model.add(layers.Dense(512, activation='relu', kernel_regularizer=tf.keras.regularizers.l2(0.01)))\n",
        "model.add(layers.Dropout(0.2))\n",
        "model.add(layers.Dense(num_classes, activation='softmax'))\n",
        "\n",
        "# Print a quick summary of the model to verify our work\n",
        "model.summary()\n",
        "\n",
        "# Compile using some 'typical' parameters for loss, optimizer and error metric\n",
        "model.compile(loss=tf.keras.losses.categorical_crossentropy,\n",
        "              optimizer=tf.keras.optimizers.RMSprop(),\n",
        "              metrics=['accuracy'])"
      ],
      "execution_count": 5,
      "outputs": [
        {
          "output_type": "stream",
          "text": [
            "Model: \"sequential\"\n",
            "_________________________________________________________________\n",
            "Layer (type)                 Output Shape              Param #   \n",
            "=================================================================\n",
            "dense (Dense)                (None, 512)               401920    \n",
            "_________________________________________________________________\n",
            "dropout (Dropout)            (None, 512)               0         \n",
            "_________________________________________________________________\n",
            "dense_1 (Dense)              (None, 512)               262656    \n",
            "_________________________________________________________________\n",
            "dropout_1 (Dropout)          (None, 512)               0         \n",
            "_________________________________________________________________\n",
            "dense_2 (Dense)              (None, 10)                5130      \n",
            "=================================================================\n",
            "Total params: 669,706\n",
            "Trainable params: 669,706\n",
            "Non-trainable params: 0\n",
            "_________________________________________________________________\n"
          ],
          "name": "stdout"
        }
      ]
    },
    {
      "cell_type": "markdown",
      "metadata": {
        "id": "2ScoLr1J2ZcC"
      },
      "source": [
        "#Step 3 - Train the model \n",
        "The model API does all of the heavy lifting here, simply calling the fit and evalutate functions returns everything that we need to know about the model's results on train and test (NB: The tune partition being passed as validation data that will be used for early stopping). "
      ]
    },
    {
      "cell_type": "code",
      "metadata": {
        "id": "1QA0gW-u2lCh",
        "outputId": "49c4415f-b688-4a6e-c157-2e701ec6898c",
        "colab": {
          "base_uri": "https://localhost:8080/",
          "height": 632
        }
      },
      "source": [
        "# Configure early stopping using validation accuracy from tune partition  \n",
        "stop_early = tf.keras.callbacks.EarlyStopping(monitor='val_acc', \n",
        "                                           patience=3, \n",
        "                                           verbose=1, \n",
        "                                           restore_best_weights=True)\n",
        "\n",
        "# The history structure keeps tabs on what happened during the session\n",
        "history = model.fit(x_train, y_train,\n",
        "                    batch_size=batch_size,\n",
        "                    epochs=epochs,\n",
        "                    verbose=1,\n",
        "                    validation_data=(x_tune, y_tune),\n",
        "                    callbacks=[stop_early],\n",
        "                    shuffle=True)\n",
        "\n",
        "score = model.evaluate(x_test, y_test, verbose=0)\n",
        "\n",
        "print('Test loss:', score[0])\n",
        "print('Test accuracy:', score[1])\n",
        "\n",
        "predictions = model.predict(x_test, verbose=0)"
      ],
      "execution_count": 6,
      "outputs": [
        {
          "output_type": "stream",
          "text": [
            "Epoch 1/10\n",
            "233/235 [============================>.] - ETA: 0s - loss: 1.2567 - accuracy: 0.8745WARNING:tensorflow:Early stopping conditioned on metric `val_acc` which is not available. Available metrics are: loss,accuracy,val_loss,val_accuracy\n",
            "235/235 [==============================] - 5s 22ms/step - loss: 1.2513 - accuracy: 0.8748 - val_loss: 0.3401 - val_accuracy: 0.9389\n",
            "Epoch 2/10\n",
            "234/235 [============================>.] - ETA: 0s - loss: 0.3073 - accuracy: 0.9381WARNING:tensorflow:Early stopping conditioned on metric `val_acc` which is not available. Available metrics are: loss,accuracy,val_loss,val_accuracy\n",
            "235/235 [==============================] - 5s 20ms/step - loss: 0.3073 - accuracy: 0.9381 - val_loss: 0.2539 - val_accuracy: 0.9519\n",
            "Epoch 3/10\n",
            "235/235 [==============================] - ETA: 0s - loss: 0.2400 - accuracy: 0.9531WARNING:tensorflow:Early stopping conditioned on metric `val_acc` which is not available. Available metrics are: loss,accuracy,val_loss,val_accuracy\n",
            "235/235 [==============================] - 6s 26ms/step - loss: 0.2400 - accuracy: 0.9531 - val_loss: 0.2089 - val_accuracy: 0.9637\n",
            "Epoch 4/10\n",
            "232/235 [============================>.] - ETA: 0s - loss: 0.2070 - accuracy: 0.9614WARNING:tensorflow:Early stopping conditioned on metric `val_acc` which is not available. Available metrics are: loss,accuracy,val_loss,val_accuracy\n",
            "235/235 [==============================] - 6s 24ms/step - loss: 0.2067 - accuracy: 0.9615 - val_loss: 0.2264 - val_accuracy: 0.9551\n",
            "Epoch 5/10\n",
            "235/235 [==============================] - ETA: 0s - loss: 0.1825 - accuracy: 0.9667WARNING:tensorflow:Early stopping conditioned on metric `val_acc` which is not available. Available metrics are: loss,accuracy,val_loss,val_accuracy\n",
            "235/235 [==============================] - 5s 20ms/step - loss: 0.1825 - accuracy: 0.9667 - val_loss: 0.2098 - val_accuracy: 0.9585\n",
            "Epoch 6/10\n",
            "233/235 [============================>.] - ETA: 0s - loss: 0.1684 - accuracy: 0.9692WARNING:tensorflow:Early stopping conditioned on metric `val_acc` which is not available. Available metrics are: loss,accuracy,val_loss,val_accuracy\n",
            "235/235 [==============================] - 5s 21ms/step - loss: 0.1681 - accuracy: 0.9693 - val_loss: 0.1782 - val_accuracy: 0.9661\n",
            "Epoch 7/10\n",
            "233/235 [============================>.] - ETA: 0s - loss: 0.1528 - accuracy: 0.9732WARNING:tensorflow:Early stopping conditioned on metric `val_acc` which is not available. Available metrics are: loss,accuracy,val_loss,val_accuracy\n",
            "235/235 [==============================] - 5s 21ms/step - loss: 0.1527 - accuracy: 0.9732 - val_loss: 0.1749 - val_accuracy: 0.9646\n",
            "Epoch 8/10\n",
            "234/235 [============================>.] - ETA: 0s - loss: 0.1411 - accuracy: 0.9757WARNING:tensorflow:Early stopping conditioned on metric `val_acc` which is not available. Available metrics are: loss,accuracy,val_loss,val_accuracy\n",
            "235/235 [==============================] - 5s 21ms/step - loss: 0.1410 - accuracy: 0.9757 - val_loss: 0.1620 - val_accuracy: 0.9711\n",
            "Epoch 9/10\n",
            "233/235 [============================>.] - ETA: 0s - loss: 0.1354 - accuracy: 0.9777WARNING:tensorflow:Early stopping conditioned on metric `val_acc` which is not available. Available metrics are: loss,accuracy,val_loss,val_accuracy\n",
            "235/235 [==============================] - 5s 21ms/step - loss: 0.1353 - accuracy: 0.9778 - val_loss: 0.1575 - val_accuracy: 0.9719\n",
            "Epoch 10/10\n",
            "232/235 [============================>.] - ETA: 0s - loss: 0.1275 - accuracy: 0.9785WARNING:tensorflow:Early stopping conditioned on metric `val_acc` which is not available. Available metrics are: loss,accuracy,val_loss,val_accuracy\n",
            "235/235 [==============================] - 5s 21ms/step - loss: 0.1274 - accuracy: 0.9786 - val_loss: 0.1590 - val_accuracy: 0.9701\n",
            "Test loss: 0.16139039397239685\n",
            "Test accuracy: 0.9706000089645386\n"
          ],
          "name": "stdout"
        }
      ]
    },
    {
      "cell_type": "markdown",
      "metadata": {
        "id": "fo2FUMVL4bK6"
      },
      "source": [
        "# Step 4 - Plot the results\n",
        "Simply plotting the actual test image along with the what the model predicted (pred) as a value represented in the image.  We are plotting 5 results but setting r to something else will print more or less results.   "
      ]
    },
    {
      "cell_type": "code",
      "metadata": {
        "id": "dWtdGWid4k7p",
        "outputId": "a9e69334-ec21-4ffa-e296-8579ded8f698",
        "colab": {
          "base_uri": "https://localhost:8080/",
          "height": 77
        }
      },
      "source": [
        "r = 10\n",
        "\n",
        "for i in range(r):\n",
        "    subplt = plt.subplot(int(i / r) + 1, r, i + 1)\n",
        "    # no sense in showing labels if they don't match the letter\n",
        "    hot_index = np.argmax(predictions[i])\n",
        "    subplt.set_title('P:{0}'.format(hot_index))\n",
        "    subplt.axis('off')\n",
        "    letter = x_test[i]\n",
        "    subplt.matshow(np.reshape(letter, [28, 28]))\n",
        "    plt.draw()\n",
        "    \n",
        "plt.show()"
      ],
      "execution_count": 7,
      "outputs": [
        {
          "output_type": "display_data",
          "data": {
            "image/png": "[encoded data removed]",
            "text/plain": [
              "<Figure size 432x288 with 10 Axes>"
            ]
          },
          "metadata": {
            "tags": [],
            "needs_background": "light"
          }
        }
      ]
    }
  ]
}