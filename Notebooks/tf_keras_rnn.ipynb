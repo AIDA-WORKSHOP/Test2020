{
  "nbformat": 4,
  "nbformat_minor": 0,
  "metadata": {
    "colab": {
      "name": "tf.keras_rnn.ipynb",
      "provenance": [],
      "collapsed_sections": [
        "vDWxZY1kjLgd",
        "sD9cwkRvNm0D",
        "jGW3Y8HEkZR8",
        "ufOCuLeTkxFB",
        "5tv5n0RNra_U",
        "mHefth1IuCfK",
        "lvT1topwufPd",
        "vkcXcUIMiAzE"
      ]
    },
    "kernelspec": {
      "name": "python3",
      "display_name": "Python 3"
    }
  },
  "cells": [
    {
      "cell_type": "markdown",
      "metadata": {
        "id": "vDWxZY1kjLgd"
      },
      "source": [
        "#Tutorial: Recurrent network model (LSTM)\n",
        "\n",
        "In this tutorial we train a long-short term memory (LSTM) recurrent model to predict the next letter in a sequence of letters, where the order of letters presented and historical context is necessary to predict the output.  "
      ]
    },
    {
      "cell_type": "markdown",
      "metadata": {
        "id": "sD9cwkRvNm0D"
      },
      "source": [
        "#Background - Element state and historical context \n",
        "\n",
        "In a simple way, LSTM networks have internal contextual state and a collection of 'gates' that regulate how they behave as long-term or short-term memory cells.\n",
        "\n",
        "The output of the LSTM network is modulated by the state of these gates. This is a very important property, that when we need the prediction of the neural network to depend on the historical context of inputs, rather than only on the very last input.\n",
        "\n",
        "\n",
        "![LSTM Rollout](http://colah.github.io/posts/2015-08-Understanding-LSTMs/img/LSTM3-chain.png)\n",
        "\n",
        "\n",
        "As a simple example, consider that we want to predict the next number of the following sequence: 6 -> 7 -> 8 -> ?. We would like to have the next output to be 9 (x+1). However, if we provide this sequence: 2 -> 4 -> 8 -> ?, we would like to get 16 (2x).\n",
        "\n",
        "Although in both cases, the current last input was number 8, the prediction outcome should be different (when we take into account the contextual information of previous values and not only the last one).\n",
        "\n",
        "[Content borrowed from:  https://medium.com/datathings/the-magic-of-lstm-neural-networks-6775e8b540cd ]\n",
        "\n",
        "[Image linked from: http://colah.github.io/posts/2015-08-Understanding-LSTMs ]"
      ]
    },
    {
      "cell_type": "markdown",
      "metadata": {
        "id": "jGW3Y8HEkZR8"
      },
      "source": [
        "#Step 0 - Setup the learning environment\n",
        "Set the batch size to something reasonably small (<< number of songs) and use a larger number of epochs given that the process only has eight 'song' sequences to look at.  NB: LSTMs are stateful, however the Keras implementation of LSTMs resets the state of the network after each batch."
      ]
    },
    {
      "cell_type": "code",
      "metadata": {
        "id": "JIrZbCo5k_AD",
        "outputId": "a584e122-336d-41f0-fafc-0df3bde59e39",
        "colab": {
          "base_uri": "https://localhost:8080/",
          "height": 73
        }
      },
      "source": [
        "import numpy as np\n",
        "import tensorflow as tf\n",
        "from tensorflow.keras import layers\n",
        "\n",
        "\n",
        "np.random.seed(2)  # for consistancy\n",
        "\n",
        "batch_size = 4\n",
        "epochs = 100\n",
        "\n",
        "print('Environment is ready!')\n",
        "print(tf.__version__)\n",
        "print(tf.keras.__version__)"
      ],
      "execution_count": 1,
      "outputs": [
        {
          "output_type": "stream",
          "text": [
            "Environment is ready!\n",
            "2.3.0\n",
            "2.4.0\n"
          ],
          "name": "stdout"
        }
      ]
    },
    {
      "cell_type": "markdown",
      "metadata": {
        "id": "ufOCuLeTkxFB"
      },
      "source": [
        "#Step 1 - Define and prepare the data\n",
        "The task is to learn sequences called 'songs' that can be simply thought of as a progression of parts (say chords) in a song, represented by alphabet characeters.  The letters will actually be encoded as integer alphabet indices to make them compatible with the LSTM model.  The final letter in each song is the training label.  \n",
        "\n",
        "Note the **repeating patterns** and similarities between different 'songs'.  For example, songs with labels M and Q ***only differ in two elements***, which occur at very beginning of their sequences.  N is also very similar to these with only a small temporal offest in the repeating pattern. "
      ]
    },
    {
      "cell_type": "code",
      "metadata": {
        "id": "hUlNAh0vxVCc",
        "outputId": "99cf6a76-4fa0-4411-ed15-aa427fb244c8",
        "colab": {
          "base_uri": "https://localhost:8080/",
          "height": 0
        }
      },
      "source": [
        "alphabet = 'ABCDEFGHIJKLMNOPQRSTUVWXYZ'\n",
        "song = [\n",
        "    ['X', 'X', 'A', 'H', 'F', 'E', 'C', 'E', 'B', 'M'],\n",
        "    ['Y', 'Y', 'Y', 'A', 'H', 'F', 'E', 'C', 'E', 'N'],\n",
        "    ['F', 'E', 'F', 'C', 'D', 'E', 'F', 'D', 'B', 'O'],\n",
        "    ['F', 'F', 'F', 'G', 'H', 'G', 'G', 'F', 'E', 'P'],\n",
        "    ['C', 'B', 'A', 'H', 'F', 'E', 'C', 'E', 'B', 'Q'],\n",
        "    ['Z', 'X', 'B', 'A', 'B', 'C', 'D', 'E', 'F', 'R'],\n",
        "    ['W', 'F', 'G', 'H', 'H', 'H', 'G', 'F', 'E', 'L'],\n",
        "    ['W', 'X', 'Y', 'Z', 'D', 'E', 'F', 'G', 'H', 'K']]\n",
        "\n",
        "# Translate songs into alphabet indices, put into 'data'\n",
        "data = []\n",
        "for row in song:\n",
        "    # Get the alphabet index for each element the row \n",
        "    data.append([alphabet.find(el) for el in row])\n",
        "data = np.array(data)\n",
        "\n",
        "# Assume last column as labels and one-hot encode these\n",
        "labels = data[:, -1]\n",
        "labels = tf.keras.utils.to_categorical(labels, 26)\n",
        "\n",
        "# Trim the labels (final column) from the data \n",
        "songs = data[:, :-1]\n",
        "\n",
        "print(songs)\n",
        "\n",
        "# Reshape into the form [samples(8), time steps(9), features(1)]\n",
        "songs = np.reshape(songs, [songs.shape[0], songs.shape[1], 1])\n",
        "   "
      ],
      "execution_count": 2,
      "outputs": [
        {
          "output_type": "stream",
          "text": [
            "[[23 23  0  7  5  4  2  4  1]\n",
            " [24 24 24  0  7  5  4  2  4]\n",
            " [ 5  4  5  2  3  4  5  3  1]\n",
            " [ 5  5  5  6  7  6  6  5  4]\n",
            " [ 2  1  0  7  5  4  2  4  1]\n",
            " [25 23  1  0  1  2  3  4  5]\n",
            " [22  5  6  7  7  7  6  5  4]\n",
            " [22 23 24 25  3  4  5  6  7]]\n"
          ],
          "name": "stdout"
        }
      ]
    },
    {
      "cell_type": "markdown",
      "metadata": {
        "id": "5tv5n0RNra_U"
      },
      "source": [
        "#Step 2 - Define model architecture"
      ]
    },
    {
      "cell_type": "code",
      "metadata": {
        "id": "GXwS678DrhsP",
        "outputId": "f9e19125-aa0e-4364-9814-c76f1177acce",
        "colab": {
          "base_uri": "https://localhost:8080/",
          "height": 0
        }
      },
      "source": [
        "model = tf.keras.Sequential()\n",
        "model.add(layers.LSTM(64, return_sequences=True, input_shape=(songs.shape[1], songs.shape[2])))\n",
        "model.add(layers.LSTM(32))\n",
        "model.add(layers.Dense(len(alphabet), activation='softmax'))\n",
        "\n",
        "# Using stochastic gradient decent with two parameters\n",
        "sgd = tf.keras.optimizers.SGD(lr=0.1, momentum=0.9)\n",
        "\n",
        "# Print a quick summary of the model to verify our work\n",
        "model.summary()\n",
        "\n",
        "# Compile using some 'typical' parameters for loss, optimizer and error metric\n",
        "model.compile(optimizer=sgd, loss='categorical_crossentropy', metrics=['accuracy'])\n",
        "\n"
      ],
      "execution_count": 3,
      "outputs": [
        {
          "output_type": "stream",
          "text": [
            "Model: \"sequential\"\n",
            "_________________________________________________________________\n",
            "Layer (type)                 Output Shape              Param #   \n",
            "=================================================================\n",
            "lstm (LSTM)                  (None, 9, 64)             16896     \n",
            "_________________________________________________________________\n",
            "lstm_1 (LSTM)                (None, 32)                12416     \n",
            "_________________________________________________________________\n",
            "dense (Dense)                (None, 26)                858       \n",
            "=================================================================\n",
            "Total params: 30,170\n",
            "Trainable params: 30,170\n",
            "Non-trainable params: 0\n",
            "_________________________________________________________________\n"
          ],
          "name": "stdout"
        }
      ]
    },
    {
      "cell_type": "markdown",
      "metadata": {
        "id": "mHefth1IuCfK"
      },
      "source": [
        "#Step 3 - Train the model"
      ]
    },
    {
      "cell_type": "code",
      "metadata": {
        "id": "ukf7tr6duLNT",
        "outputId": "97b8abad-c58d-4258-dc97-dc44e3cad02a",
        "colab": {
          "base_uri": "https://localhost:8080/",
          "height": 0
        }
      },
      "source": [
        "model.fit(songs, labels, batch_size, epochs, shuffle=True)\n",
        "scores = model.evaluate(songs, labels)\n",
        "\n",
        "print('Accuracy: {0:2.2}'.format(scores[1]))\n"
      ],
      "execution_count": 4,
      "outputs": [
        {
          "output_type": "stream",
          "text": [
            "Epoch 1/100\n",
            "2/2 [==============================] - 0s 5ms/step - loss: 3.3310 - accuracy: 0.0000e+00\n",
            "Epoch 2/100\n",
            "2/2 [==============================] - 0s 5ms/step - loss: 3.0859 - accuracy: 0.1250\n",
            "Epoch 3/100\n",
            "2/2 [==============================] - 0s 5ms/step - loss: 2.8973 - accuracy: 0.1250\n",
            "Epoch 4/100\n",
            "2/2 [==============================] - 0s 5ms/step - loss: 2.6767 - accuracy: 0.1250\n",
            "Epoch 5/100\n",
            "2/2 [==============================] - 0s 5ms/step - loss: 2.4902 - accuracy: 0.0000e+00\n",
            "Epoch 6/100\n",
            "2/2 [==============================] - 0s 4ms/step - loss: 2.3383 - accuracy: 0.1250\n",
            "Epoch 7/100\n",
            "2/2 [==============================] - 0s 5ms/step - loss: 2.2181 - accuracy: 0.2500\n",
            "Epoch 8/100\n",
            "2/2 [==============================] - 0s 6ms/step - loss: 2.1732 - accuracy: 0.1250\n",
            "Epoch 9/100\n",
            "2/2 [==============================] - 0s 5ms/step - loss: 2.1066 - accuracy: 0.1250\n",
            "Epoch 10/100\n",
            "2/2 [==============================] - 0s 4ms/step - loss: 2.1115 - accuracy: 0.1250\n",
            "Epoch 11/100\n",
            "2/2 [==============================] - 0s 5ms/step - loss: 2.0436 - accuracy: 0.0000e+00\n",
            "Epoch 12/100\n",
            "2/2 [==============================] - 0s 5ms/step - loss: 1.9315 - accuracy: 0.3750\n",
            "Epoch 13/100\n",
            "2/2 [==============================] - 0s 5ms/step - loss: 1.9602 - accuracy: 0.2500\n",
            "Epoch 14/100\n",
            "2/2 [==============================] - 0s 5ms/step - loss: 1.8413 - accuracy: 0.3750\n",
            "Epoch 15/100\n",
            "2/2 [==============================] - 0s 5ms/step - loss: 1.6289 - accuracy: 0.3750\n",
            "Epoch 16/100\n",
            "2/2 [==============================] - 0s 6ms/step - loss: 1.4784 - accuracy: 0.1250\n",
            "Epoch 17/100\n",
            "2/2 [==============================] - 0s 5ms/step - loss: 1.3771 - accuracy: 0.5000\n",
            "Epoch 18/100\n",
            "2/2 [==============================] - 0s 5ms/step - loss: 1.1185 - accuracy: 0.6250\n",
            "Epoch 19/100\n",
            "2/2 [==============================] - 0s 5ms/step - loss: 0.9083 - accuracy: 0.6250\n",
            "Epoch 20/100\n",
            "2/2 [==============================] - 0s 5ms/step - loss: 0.8357 - accuracy: 0.6250\n",
            "Epoch 21/100\n",
            "2/2 [==============================] - 0s 5ms/step - loss: 0.7116 - accuracy: 0.8750\n",
            "Epoch 22/100\n",
            "2/2 [==============================] - 0s 5ms/step - loss: 0.6246 - accuracy: 0.7500\n",
            "Epoch 23/100\n",
            "2/2 [==============================] - 0s 5ms/step - loss: 0.5446 - accuracy: 0.8750\n",
            "Epoch 24/100\n",
            "2/2 [==============================] - 0s 6ms/step - loss: 0.4563 - accuracy: 1.0000\n",
            "Epoch 25/100\n",
            "2/2 [==============================] - 0s 5ms/step - loss: 0.4396 - accuracy: 0.8750\n",
            "Epoch 26/100\n",
            "2/2 [==============================] - 0s 5ms/step - loss: 0.6515 - accuracy: 0.7500\n",
            "Epoch 27/100\n",
            "2/2 [==============================] - 0s 5ms/step - loss: 2.0203 - accuracy: 0.2500\n",
            "Epoch 28/100\n",
            "2/2 [==============================] - 0s 6ms/step - loss: 1.6992 - accuracy: 0.2500\n",
            "Epoch 29/100\n",
            "2/2 [==============================] - 0s 5ms/step - loss: 0.9580 - accuracy: 0.5000\n",
            "Epoch 30/100\n",
            "2/2 [==============================] - 0s 6ms/step - loss: 1.3023 - accuracy: 0.5000\n",
            "Epoch 31/100\n",
            "2/2 [==============================] - 0s 5ms/step - loss: 1.4780 - accuracy: 0.5000\n",
            "Epoch 32/100\n",
            "2/2 [==============================] - 0s 5ms/step - loss: 2.3044 - accuracy: 0.3750\n",
            "Epoch 33/100\n",
            "2/2 [==============================] - 0s 5ms/step - loss: 0.8983 - accuracy: 0.6250\n",
            "Epoch 34/100\n",
            "2/2 [==============================] - 0s 5ms/step - loss: 1.0169 - accuracy: 0.5000\n",
            "Epoch 35/100\n",
            "2/2 [==============================] - 0s 5ms/step - loss: 2.8028 - accuracy: 0.1250\n",
            "Epoch 36/100\n",
            "2/2 [==============================] - 0s 5ms/step - loss: 1.6056 - accuracy: 0.3750\n",
            "Epoch 37/100\n",
            "2/2 [==============================] - 0s 5ms/step - loss: 1.7128 - accuracy: 0.1250\n",
            "Epoch 38/100\n",
            "2/2 [==============================] - 0s 5ms/step - loss: 1.2236 - accuracy: 0.5000\n",
            "Epoch 39/100\n",
            "2/2 [==============================] - 0s 5ms/step - loss: 1.0056 - accuracy: 0.7500\n",
            "Epoch 40/100\n",
            "2/2 [==============================] - 0s 5ms/step - loss: 0.9762 - accuracy: 0.6250\n",
            "Epoch 41/100\n",
            "2/2 [==============================] - 0s 7ms/step - loss: 0.6369 - accuracy: 0.7500\n",
            "Epoch 42/100\n",
            "2/2 [==============================] - 0s 5ms/step - loss: 0.5349 - accuracy: 0.8750\n",
            "Epoch 43/100\n",
            "2/2 [==============================] - 0s 5ms/step - loss: 0.4720 - accuracy: 0.7500\n",
            "Epoch 44/100\n",
            "2/2 [==============================] - 0s 6ms/step - loss: 0.4124 - accuracy: 0.7500\n",
            "Epoch 45/100\n",
            "2/2 [==============================] - 0s 5ms/step - loss: 0.3760 - accuracy: 0.8750\n",
            "Epoch 46/100\n",
            "2/2 [==============================] - 0s 6ms/step - loss: 0.3309 - accuracy: 0.8750\n",
            "Epoch 47/100\n",
            "2/2 [==============================] - 0s 6ms/step - loss: 0.3185 - accuracy: 0.8750\n",
            "Epoch 48/100\n",
            "2/2 [==============================] - 0s 7ms/step - loss: 0.2757 - accuracy: 0.8750\n",
            "Epoch 49/100\n",
            "2/2 [==============================] - 0s 6ms/step - loss: 0.2818 - accuracy: 0.8750\n",
            "Epoch 50/100\n",
            "2/2 [==============================] - 0s 6ms/step - loss: 0.2466 - accuracy: 0.8750\n",
            "Epoch 51/100\n",
            "2/2 [==============================] - 0s 5ms/step - loss: 0.2322 - accuracy: 0.8750\n",
            "Epoch 52/100\n",
            "2/2 [==============================] - 0s 7ms/step - loss: 0.2238 - accuracy: 0.8750\n",
            "Epoch 53/100\n",
            "2/2 [==============================] - 0s 5ms/step - loss: 0.2551 - accuracy: 0.7500\n",
            "Epoch 54/100\n",
            "2/2 [==============================] - 0s 8ms/step - loss: 0.2380 - accuracy: 0.8750\n",
            "Epoch 55/100\n",
            "2/2 [==============================] - 0s 8ms/step - loss: 0.2273 - accuracy: 0.8750\n",
            "Epoch 56/100\n",
            "2/2 [==============================] - 0s 7ms/step - loss: 0.1938 - accuracy: 0.8750\n",
            "Epoch 57/100\n",
            "2/2 [==============================] - 0s 5ms/step - loss: 0.1906 - accuracy: 0.8750\n",
            "Epoch 58/100\n",
            "2/2 [==============================] - 0s 6ms/step - loss: 0.1892 - accuracy: 0.8750\n",
            "Epoch 59/100\n",
            "2/2 [==============================] - 0s 6ms/step - loss: 0.1830 - accuracy: 1.0000\n",
            "Epoch 60/100\n",
            "2/2 [==============================] - 0s 5ms/step - loss: 0.2040 - accuracy: 0.8750\n",
            "Epoch 61/100\n",
            "2/2 [==============================] - 0s 5ms/step - loss: 0.1766 - accuracy: 1.0000\n",
            "Epoch 62/100\n",
            "2/2 [==============================] - 0s 7ms/step - loss: 0.2132 - accuracy: 0.8750\n",
            "Epoch 63/100\n",
            "2/2 [==============================] - 0s 5ms/step - loss: 0.1931 - accuracy: 0.8750\n",
            "Epoch 64/100\n",
            "2/2 [==============================] - 0s 7ms/step - loss: 0.1673 - accuracy: 0.8750\n",
            "Epoch 65/100\n",
            "2/2 [==============================] - 0s 5ms/step - loss: 0.5522 - accuracy: 0.7500\n",
            "Epoch 66/100\n",
            "2/2 [==============================] - 0s 5ms/step - loss: 5.0587 - accuracy: 0.1250\n",
            "Epoch 67/100\n",
            "2/2 [==============================] - 0s 5ms/step - loss: 2.4380 - accuracy: 0.1250\n",
            "Epoch 68/100\n",
            "2/2 [==============================] - 0s 6ms/step - loss: 2.2199 - accuracy: 0.3750\n",
            "Epoch 69/100\n",
            "2/2 [==============================] - 0s 5ms/step - loss: 1.9861 - accuracy: 0.3750\n",
            "Epoch 70/100\n",
            "2/2 [==============================] - 0s 5ms/step - loss: 1.5503 - accuracy: 0.3750\n",
            "Epoch 71/100\n",
            "2/2 [==============================] - 0s 5ms/step - loss: 1.4680 - accuracy: 0.5000\n",
            "Epoch 72/100\n",
            "2/2 [==============================] - 0s 6ms/step - loss: 1.3433 - accuracy: 0.3750\n",
            "Epoch 73/100\n",
            "2/2 [==============================] - 0s 5ms/step - loss: 1.0936 - accuracy: 0.5000\n",
            "Epoch 74/100\n",
            "2/2 [==============================] - 0s 5ms/step - loss: 0.8853 - accuracy: 0.6250\n",
            "Epoch 75/100\n",
            "2/2 [==============================] - 0s 5ms/step - loss: 0.7721 - accuracy: 0.7500\n",
            "Epoch 76/100\n",
            "2/2 [==============================] - 0s 5ms/step - loss: 0.8346 - accuracy: 0.7500\n",
            "Epoch 77/100\n",
            "2/2 [==============================] - 0s 4ms/step - loss: 0.7548 - accuracy: 0.7500\n",
            "Epoch 78/100\n",
            "2/2 [==============================] - 0s 6ms/step - loss: 0.6351 - accuracy: 0.8750\n",
            "Epoch 79/100\n",
            "2/2 [==============================] - 0s 5ms/step - loss: 0.5623 - accuracy: 0.7500\n",
            "Epoch 80/100\n",
            "2/2 [==============================] - 0s 5ms/step - loss: 0.5474 - accuracy: 0.7500\n",
            "Epoch 81/100\n",
            "2/2 [==============================] - 0s 6ms/step - loss: 0.5242 - accuracy: 0.7500\n",
            "Epoch 82/100\n",
            "2/2 [==============================] - 0s 6ms/step - loss: 0.4653 - accuracy: 0.7500\n",
            "Epoch 83/100\n",
            "2/2 [==============================] - 0s 6ms/step - loss: 0.4471 - accuracy: 0.6250\n",
            "Epoch 84/100\n",
            "2/2 [==============================] - 0s 6ms/step - loss: 0.4672 - accuracy: 0.7500\n",
            "Epoch 85/100\n",
            "2/2 [==============================] - 0s 6ms/step - loss: 0.4034 - accuracy: 0.7500\n",
            "Epoch 86/100\n",
            "2/2 [==============================] - 0s 5ms/step - loss: 0.3588 - accuracy: 0.8750\n",
            "Epoch 87/100\n",
            "2/2 [==============================] - 0s 5ms/step - loss: 0.3447 - accuracy: 0.8750\n",
            "Epoch 88/100\n",
            "2/2 [==============================] - 0s 5ms/step - loss: 0.3430 - accuracy: 0.8750\n",
            "Epoch 89/100\n",
            "2/2 [==============================] - 0s 5ms/step - loss: 0.3257 - accuracy: 0.8750\n",
            "Epoch 90/100\n",
            "2/2 [==============================] - 0s 6ms/step - loss: 0.3038 - accuracy: 0.8750\n",
            "Epoch 91/100\n",
            "2/2 [==============================] - 0s 6ms/step - loss: 0.2721 - accuracy: 0.8750\n",
            "Epoch 92/100\n",
            "2/2 [==============================] - 0s 7ms/step - loss: 0.2776 - accuracy: 0.8750\n",
            "Epoch 93/100\n",
            "2/2 [==============================] - 0s 6ms/step - loss: 0.2855 - accuracy: 0.8750\n",
            "Epoch 94/100\n",
            "2/2 [==============================] - 0s 8ms/step - loss: 0.2736 - accuracy: 0.8750\n",
            "Epoch 95/100\n",
            "2/2 [==============================] - 0s 10ms/step - loss: 0.2700 - accuracy: 0.7500\n",
            "Epoch 96/100\n",
            "2/2 [==============================] - 0s 7ms/step - loss: 0.2317 - accuracy: 0.8750\n",
            "Epoch 97/100\n",
            "2/2 [==============================] - 0s 11ms/step - loss: 0.2311 - accuracy: 0.8750\n",
            "Epoch 98/100\n",
            "2/2 [==============================] - 0s 6ms/step - loss: 0.2255 - accuracy: 0.8750\n",
            "Epoch 99/100\n",
            "2/2 [==============================] - 0s 5ms/step - loss: 0.2341 - accuracy: 0.8750\n",
            "Epoch 100/100\n",
            "2/2 [==============================] - 0s 6ms/step - loss: 0.2245 - accuracy: 0.8750\n",
            "1/1 [==============================] - 0s 1ms/step - loss: 0.2128 - accuracy: 0.8750\n",
            "Accuracy: 0.88\n"
          ],
          "name": "stdout"
        }
      ]
    },
    {
      "cell_type": "markdown",
      "metadata": {
        "id": "lvT1topwufPd"
      },
      "source": [
        "#Step 4 - Print some sample results"
      ]
    },
    {
      "cell_type": "code",
      "metadata": {
        "id": "Io12prmkum7F",
        "outputId": "f90ba51c-7412-4fc6-84c5-972c5337f6b0",
        "colab": {
          "base_uri": "https://localhost:8080/",
          "height": 0
        }
      },
      "source": [
        "r = 8\n",
        "\n",
        "for i in range(r):\n",
        "    # Choose an individual song at random and format it for testing\n",
        "    #rand_idx = np.random.randint(0, songs.shape[0])\n",
        "    test_song  = songs[i] \n",
        "    model_input = np.reshape(test_song, [1, 9, 1])\n",
        "    \n",
        "    # Given the sequence, predict the next letter\n",
        "    prediction = model.predict(model_input)\n",
        "    \n",
        "    # Decode and print the sequence followed by the predicted next letter\n",
        "    letter_in = []\n",
        "    for el in test_song:\n",
        "        letter_in.append(alphabet[el[0]])\n",
        "    if np.argmax(prediction) == np.argmax(labels[i]):\n",
        "        msg='Correct!'\n",
        "    else:\n",
        "        msg='Incorrect'\n",
        "    print(\"{0} -> {1} ... {2}\".format(letter_in, alphabet[np.argmax(prediction)], msg))\n",
        "   "
      ],
      "execution_count": 5,
      "outputs": [
        {
          "output_type": "stream",
          "text": [
            "['X', 'X', 'A', 'H', 'F', 'E', 'C', 'E', 'B'] -> M ... Correct!\n",
            "['Y', 'Y', 'Y', 'A', 'H', 'F', 'E', 'C', 'E'] -> N ... Correct!\n",
            "['F', 'E', 'F', 'C', 'D', 'E', 'F', 'D', 'B'] -> O ... Correct!\n",
            "['F', 'F', 'F', 'G', 'H', 'G', 'G', 'F', 'E'] -> P ... Correct!\n",
            "['C', 'B', 'A', 'H', 'F', 'E', 'C', 'E', 'B'] -> Q ... Correct!\n",
            "['Z', 'X', 'B', 'A', 'B', 'C', 'D', 'E', 'F'] -> R ... Correct!\n",
            "['W', 'F', 'G', 'H', 'H', 'H', 'G', 'F', 'E'] -> P ... Incorrect\n",
            "['W', 'X', 'Y', 'Z', 'D', 'E', 'F', 'G', 'H'] -> K ... Correct!\n"
          ],
          "name": "stdout"
        }
      ]
    },
    {
      "cell_type": "markdown",
      "metadata": {
        "id": "vkcXcUIMiAzE"
      },
      "source": [
        "#Step 5 - Testing for robustness / generalization \n",
        "Using testsong, with slight changes to the elements of the input sequences, how does the LSTM perform? \n",
        "\n",
        "Consider the following changes: \n",
        "![testsong_image](https://aida.acadiau.ca/tl_files/sites/aida/test_song.png)\n",
        "\n",
        "[testsong](https://drive.google.com/open?id=1rGsyA34QAdQYF8a8rHMtjafM6AKxdGrs)\n",
        "\n"
      ]
    },
    {
      "cell_type": "code",
      "metadata": {
        "id": "27BvlERYkIwK",
        "outputId": "b32d865f-8998-484f-edf5-a4ce6c607a54",
        "colab": {
          "base_uri": "https://localhost:8080/",
          "height": 0
        }
      },
      "source": [
        "testsong = [\n",
        "    ['X', 'X', 'A', 'H', 'G', 'E', 'C', 'E', 'B', 'M'],\n",
        "    ['Y', 'Y', 'Y', 'B', 'H', 'F', 'F', 'C', 'E', 'N'],\n",
        "    ['F', 'E', 'F', 'C', 'D', 'E', 'F', 'D', 'B', 'O'],\n",
        "    ['F', 'F', 'F', 'G', 'G', 'G', 'G', 'F', 'O', 'P'],\n",
        "    ['C', 'B', 'A', 'H', 'F', 'E', 'D', 'E', 'B', 'Q'],\n",
        "    ['Z', 'X', 'B', 'A', 'B', 'E', 'E', 'E', 'F', 'R'],\n",
        "    ['W', 'F', 'G', 'H', 'H', 'H', 'H', 'F', 'E', 'L'],\n",
        "    ['W', 'X', 'Y', 'Z', 'D', 'E', 'F', 'G', 'G', 'K']]\n",
        "\n",
        "# In practice, we would never rewrite a section of code like this!\n",
        "\n",
        "testdata = []\n",
        "for row in testsong:\n",
        "    # Get the alphabet index for each element the row \n",
        "    testdata.append([alphabet.find(el) for el in row])\n",
        "testdata = np.array(testdata)\n",
        "testlabels = testdata[:, -1]\n",
        "testlabels = tf.keras.utils.to_categorical(testlabels, 26)\n",
        "testsongs = testdata[:, :-1]\n",
        "testsongs = np.reshape(testsongs, [testsongs.shape[0], testsongs.shape[1], 1])\n",
        "\n",
        "r = 8\n",
        "for i in range(r):\n",
        "    test_song  = testsongs[i] \n",
        "    model_input = np.reshape(test_song, [1, 9, 1])\n",
        "    prediction = model.predict(model_input)\n",
        "    letter_in = []\n",
        "    for el in test_song:\n",
        "        letter_in.append(alphabet[el[0]]) \n",
        "    if np.argmax(prediction) == np.argmax(testlabels[i]):\n",
        "        msg='Correct!'\n",
        "    else:\n",
        "        msg='Incorrect'\n",
        "    print(\"{0} -> {1} ... {2}\".format(letter_in, alphabet[np.argmax(prediction)], msg))\n",
        "    \n",
        "    \n",
        "\n"
      ],
      "execution_count": 6,
      "outputs": [
        {
          "output_type": "stream",
          "text": [
            "['X', 'X', 'A', 'H', 'G', 'E', 'C', 'E', 'B'] -> M ... Correct!\n",
            "['Y', 'Y', 'Y', 'B', 'H', 'F', 'F', 'C', 'E'] -> N ... Correct!\n",
            "['F', 'E', 'F', 'C', 'D', 'E', 'F', 'D', 'B'] -> O ... Correct!\n",
            "['F', 'F', 'F', 'G', 'G', 'G', 'G', 'F', 'O'] -> K ... Incorrect\n",
            "['C', 'B', 'A', 'H', 'F', 'E', 'D', 'E', 'B'] -> Q ... Correct!\n",
            "['Z', 'X', 'B', 'A', 'B', 'E', 'E', 'E', 'F'] -> R ... Correct!\n",
            "['W', 'F', 'G', 'H', 'H', 'H', 'H', 'F', 'E'] -> P ... Incorrect\n",
            "['W', 'X', 'Y', 'Z', 'D', 'E', 'F', 'G', 'G'] -> K ... Correct!\n"
          ],
          "name": "stdout"
        }
      ]
    }
  ]
}