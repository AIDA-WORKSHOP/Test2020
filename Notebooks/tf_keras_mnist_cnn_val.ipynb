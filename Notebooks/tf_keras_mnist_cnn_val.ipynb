{
  "nbformat": 4,
  "nbformat_minor": 0,
  "metadata": {
    "colab": {
      "name": "tf.keras_mnist_cnn_val.ipynb",
      "provenance": [],
      "collapsed_sections": []
    },
    "kernelspec": {
      "name": "python3",
      "display_name": "Python 3"
    },
    "accelerator": "GPU"
  },
  "cells": [
    {
      "cell_type": "markdown",
      "metadata": {
        "id": "axEae3e_36rd"
      },
      "source": [
        "#Step 0 - Import the various code libraries\n",
        "\n",
        "To begin, we import some library modules and functions that we will use.   \n",
        "\n",
        "Keras is a high-level neural networks API, written in Python and capable of running on top of TensorFlow, CNTK, or Theano. It was developed with a focus on enabling fast experimentation - see https://keras.io/.\n",
        "Numpy is a collection of math functions including various matrix operations - see http://www.numpy.org/.   \n",
        "Matplotlib is a 2D plotting library  - see https://matplotlib.org/.\n"
      ]
    },
    {
      "cell_type": "code",
      "metadata": {
        "id": "rVtRsr_4o8E9",
        "outputId": "a9ddd69e-edd6-4879-ffd1-cc31b9b10cc1",
        "colab": {
          "base_uri": "https://localhost:8080/",
          "height": 73
        }
      },
      "source": [
        "'''\n",
        "keras_mnist_cnn_val.py\n",
        "\n",
        "Trains a convolution neural network on the MNIST dataset.\n",
        "Gets to 99.25% test accuracy after 12 epochs when using 60,000 train examples\n",
        "(and still a lot of margin for parameter tuning).\n",
        "Slow on a CPU, but only 16 seconds per epoch on a GRID K520 GPU.\n",
        "'''\n",
        "\n",
        "from __future__ import print_function\n",
        "\n",
        "import tensorflow as tf\n",
        "from tensorflow.keras import layers\n",
        "from tensorflow.keras.datasets import mnist\n",
        "\n",
        "import numpy as np\n",
        "import matplotlib.pyplot as plt\n",
        "\n",
        "# Set the seed value of the random number generator\n",
        "random_seed = 2\n",
        "np.random.seed(random_seed)\n",
        "\n",
        "print(tf.__version__)\n",
        "print(tf.keras.__version__)\n",
        "\n",
        "print(\"The enviriment is ready.\")"
      ],
      "execution_count": 6,
      "outputs": [
        {
          "output_type": "stream",
          "text": [
            "2.3.0\n",
            "2.4.0\n",
            "The enviriment is ready.\n"
          ],
          "name": "stdout"
        }
      ]
    },
    {
      "cell_type": "markdown",
      "metadata": {
        "id": "4Hhnx_kW4zco"
      },
      "source": [
        "#Step 1 - Set the learning parameters and load the data.\n",
        "The data is loaded into three data sets: training, validation and testing.\n",
        "The validation (or tuning) set is used to ensure the model does not overfit to the training data."
      ]
    },
    {
      "cell_type": "code",
      "metadata": {
        "id": "rJDYrktD4box",
        "outputId": "7ee2f870-82fa-419b-cbf7-2eaa63115162",
        "colab": {
          "base_uri": "https://localhost:8080/",
          "height": 129
        }
      },
      "source": [
        "batch_size = 128\n",
        "num_classes = 10\n",
        "epochs = 12\n",
        "train_ex = 2000\n",
        "\n",
        "''' Load the data in, choose the number of training, val, test\n",
        "    examples we want, and reshape the x data to the\n",
        "    correct shape (28x28x1). '''\n",
        "(x_train, y_train), (x_test, y_test) = mnist.load_data()\n",
        "\n",
        "x_train = x_train.reshape(60000, 28, 28, 1)\n",
        "x_tune = x_train[50000:60000]\n",
        "x_train = x_train[0:train_ex]\n",
        "x_test = x_test.reshape(10000, 28, 28, 1)\n",
        "x_train = x_train.astype('float32')\n",
        "x_tune = x_tune.astype('float32')\n",
        "x_test = x_test.astype('float32')\n",
        "x_train /= 255\n",
        "x_tune /= 255\n",
        "x_test /= 255\n",
        "\n",
        "# convert class vectors to binary class matrices\n",
        "y_tune  = tf.keras.utils.to_categorical(y_train[50000:60000], num_classes)\n",
        "y_train = tf.keras.utils.to_categorical(y_train[0:train_ex], num_classes)\n",
        "y_test  = tf.keras.utils.to_categorical(y_test, num_classes)\n",
        "\n",
        "print(x_train.shape, 'train samples')\n",
        "print(x_tune.shape, 'tune samples')\n",
        "print(x_test.shape, 'test samples')\n",
        "print(y_train.shape, 'train targets')\n",
        "print(y_tune.shape, 'tune targets')\n",
        "print(y_test.shape, 'test targets')\n",
        "\n"
      ],
      "execution_count": 7,
      "outputs": [
        {
          "output_type": "stream",
          "text": [
            "(2000, 28, 28, 1) train samples\n",
            "(10000, 28, 28, 1) tune samples\n",
            "(10000, 28, 28, 1) test samples\n",
            "(2000, 10) train targets\n",
            "(10000, 10) tune targets\n",
            "(10000, 10) test targets\n"
          ],
          "name": "stdout"
        }
      ]
    },
    {
      "cell_type": "markdown",
      "metadata": {
        "id": "kcm-54Q35El3"
      },
      "source": [
        "#Step 2 - Configure the neural network architecture (graph) \n",
        "Keras follows the layers principle, where each network layer\n",
        "is independent and can be stacked and merged together.\n",
        "The Sequential model assumes that there is one long\n",
        "stack, with no branching.\n",
        "\n",
        "Typically, you will place a convolution layer, followed by maxpooling layer, followed by a dropout layer.  Combined these are sometimes referred to as convolutin stages."
      ]
    },
    {
      "cell_type": "code",
      "metadata": {
        "id": "HLnzHHhQ46dl",
        "outputId": "fe3094a3-c9b8-437a-ce24-ac500b1128a4",
        "colab": {
          "base_uri": "https://localhost:8080/",
          "height": 538
        }
      },
      "source": [
        "model = tf.keras.Sequential()\n",
        "\n",
        "\"\"\"\n",
        "filters gives us the number of filters in the layer,the\n",
        "more filters we have, the more information we can learn\n",
        "\n",
        "kernel_size is the size of the convolution filter\n",
        "\n",
        "activation is the activation function on each node,\n",
        "we use relu, could also use sigmoid\n",
        "\n",
        "input_shape is the shape of the image. We reshaped\n",
        "the data above to get it in the right shape. The 1\n",
        "represents a grayscale image. If you had a colour\n",
        "image (RGB), the last dimension would be 3.\n",
        "\"\"\"\n",
        "model.add(layers.Conv2D(filters=32, kernel_size=(3, 3),\n",
        "                 activation='relu',\n",
        "                 input_shape=(28, 28, 1)))\n",
        "\n",
        "\"\"\" MaxPooling takes an NxM rectangle and find the maxiumum\n",
        "value in that square, and discards the rest. Since we are\n",
        "doing 2x2 pooling, it has the effect of halving the height\n",
        "and width of the image. \"\"\"\n",
        "model.add(layers.MaxPooling2D(pool_size=(2, 2)))\n",
        "\n",
        "# Set a random 25% of nodes to 0 to prevent overfitting\n",
        "model.add(layers.Dropout(0.25))\n",
        "\n",
        "\"\"\" Add a second conv layer \n",
        "Note we don't need to give the shape between the first and\n",
        "second layer, Keras figures that out for us. \"\"\"\n",
        "model.add(layers.Conv2D(32, (2, 2), activation='relu'))\n",
        "model.add(layers.MaxPooling2D(pool_size=(2, 2)))\n",
        "model.add(layers.Dropout(0.25))\n",
        "\n",
        "# Transform the 6x6x32 values to a flat 1152\n",
        "model.add(layers.Flatten())\n",
        "\n",
        "# Add an additonal hidden layer of dense nodes\n",
        "model.add(layers.Dense(128, activation='relu'))\n",
        "model.add(layers.Dropout(0.5))\n",
        "\n",
        "# Finish with 10 softmax output nodes\n",
        "model.add(layers.Dense(num_classes, activation='softmax'))\n",
        "\n",
        "model.summary()   # Show a summary of the network architecture\n",
        "\n"
      ],
      "execution_count": 8,
      "outputs": [
        {
          "output_type": "stream",
          "text": [
            "Model: \"sequential\"\n",
            "_________________________________________________________________\n",
            "Layer (type)                 Output Shape              Param #   \n",
            "=================================================================\n",
            "conv2d (Conv2D)              (None, 26, 26, 32)        320       \n",
            "_________________________________________________________________\n",
            "max_pooling2d (MaxPooling2D) (None, 13, 13, 32)        0         \n",
            "_________________________________________________________________\n",
            "dropout (Dropout)            (None, 13, 13, 32)        0         \n",
            "_________________________________________________________________\n",
            "conv2d_1 (Conv2D)            (None, 12, 12, 32)        4128      \n",
            "_________________________________________________________________\n",
            "max_pooling2d_1 (MaxPooling2 (None, 6, 6, 32)          0         \n",
            "_________________________________________________________________\n",
            "dropout_1 (Dropout)          (None, 6, 6, 32)          0         \n",
            "_________________________________________________________________\n",
            "flatten (Flatten)            (None, 1152)              0         \n",
            "_________________________________________________________________\n",
            "dense (Dense)                (None, 128)               147584    \n",
            "_________________________________________________________________\n",
            "dropout_2 (Dropout)          (None, 128)               0         \n",
            "_________________________________________________________________\n",
            "dense_1 (Dense)              (None, 10)                1290      \n",
            "=================================================================\n",
            "Total params: 153,322\n",
            "Trainable params: 153,322\n",
            "Non-trainable params: 0\n",
            "_________________________________________________________________\n"
          ],
          "name": "stdout"
        }
      ]
    },
    {
      "cell_type": "markdown",
      "metadata": {
        "id": "p8A0nKQv6UGc"
      },
      "source": [
        "#Step 3 - Compile the model and fit the data to it\n",
        "The code for compiling two learning algorithms are provided to demostrate the variety of approaches that can be used to train networks.   \n",
        "The first uses the Adadelta Gradient Descent algorithm and does not use a validation set to prevent overfitting. \n",
        "The second uses the Stochastic Gradient Descent algorithm with momentum and a validation set to prevent overfitting.\n",
        "Both methods use the categorical cross-entropy loss function, which works well with the softmax activation output nodes. \n",
        "Using comments you can select the algorithm you wish to compile. \n",
        "\n"
      ]
    },
    {
      "cell_type": "code",
      "metadata": {
        "id": "aP7PGIeW6SEU",
        "outputId": "7333c88d-80d3-4790-c89c-91d9dedcfcf7",
        "colab": {
          "base_uri": "https://localhost:8080/",
          "height": 707
        }
      },
      "source": [
        "'''\n",
        "#############\n",
        "# Adadelta Gradient Descent without use of validation set \n",
        "# to prevent overfitting\n",
        "\n",
        "\n",
        "model.compile(loss=keras.losses.categorical_crossentropy,\n",
        "              optimizer=keras.optimizers.Adadelta(lr=1.0, rho=0.95, epsilon=None, decay=0.0),\n",
        "              metrics=['accuracy'])\n",
        "\n",
        "model.fit(x_train, y_train,\n",
        "          batch_size=batch_size,\n",
        "          epochs=epochs,\n",
        "          verbose=1,\n",
        "          validation_data=(x_test, y_test))\n",
        "#\n",
        "#############\n",
        "'''\n",
        "\n",
        "#############\n",
        "# Stochastic Gradient Descent with momentum and a validation set \n",
        "# to prevent overfitting\n",
        "\n",
        "sgd = tf.keras.optimizers.SGD(lr=0.01, momentum=0.9)\n",
        "\n",
        "model.compile(loss=tf.keras.losses.categorical_crossentropy,\n",
        "#              optimizer=sgd,\n",
        "              optimizer=tf.keras.optimizers.Adadelta(lr=1.0, rho=0.95, epsilon=None, decay=0.0),\n",
        "              metrics=['accuracy'])\n",
        "\n",
        "# Configure early stopping using validation accuracy from tune partition  \n",
        "es = tf.keras.callbacks.EarlyStopping(monitor='val_acc',\n",
        "                   patience=2,  # epochs to wait after min loss\n",
        "                   verbose=1, \n",
        "                   restore_best_weights=True) # restore the best weights\n",
        "\n",
        "# The history structure keeps tabs on what happened during the session\n",
        "history = model.fit(x_train, y_train,\n",
        "          batch_size=batch_size,\n",
        "          epochs=epochs,\n",
        "          verbose=1,\n",
        "          validation_data=(x_tune, y_tune),\n",
        "          callbacks=[es])\n",
        "#\n",
        "#############\n",
        "\n"
      ],
      "execution_count": 9,
      "outputs": [
        {
          "output_type": "stream",
          "text": [
            "Epoch 1/12\n",
            "16/16 [==============================] - ETA: 0s - loss: 2.0430 - accuracy: 0.2900WARNING:tensorflow:Early stopping conditioned on metric `val_acc` which is not available. Available metrics are: loss,accuracy,val_loss,val_accuracy\n",
            "16/16 [==============================] - 1s 52ms/step - loss: 2.0430 - accuracy: 0.2900 - val_loss: 1.4001 - val_accuracy: 0.7026\n",
            "Epoch 2/12\n",
            "15/16 [===========================>..] - ETA: 0s - loss: 1.3502 - accuracy: 0.5557WARNING:tensorflow:Early stopping conditioned on metric `val_acc` which is not available. Available metrics are: loss,accuracy,val_loss,val_accuracy\n",
            "16/16 [==============================] - 0s 28ms/step - loss: 1.3371 - accuracy: 0.5595 - val_loss: 0.9365 - val_accuracy: 0.7112\n",
            "Epoch 3/12\n",
            "15/16 [===========================>..] - ETA: 0s - loss: 0.9701 - accuracy: 0.6885WARNING:tensorflow:Early stopping conditioned on metric `val_acc` which is not available. Available metrics are: loss,accuracy,val_loss,val_accuracy\n",
            "16/16 [==============================] - 0s 28ms/step - loss: 0.9711 - accuracy: 0.6865 - val_loss: 0.6455 - val_accuracy: 0.8090\n",
            "Epoch 4/12\n",
            "15/16 [===========================>..] - ETA: 0s - loss: 0.7709 - accuracy: 0.7516WARNING:tensorflow:Early stopping conditioned on metric `val_acc` which is not available. Available metrics are: loss,accuracy,val_loss,val_accuracy\n",
            "16/16 [==============================] - 0s 28ms/step - loss: 0.7748 - accuracy: 0.7480 - val_loss: 0.5104 - val_accuracy: 0.8671\n",
            "Epoch 5/12\n",
            "15/16 [===========================>..] - ETA: 0s - loss: 0.5995 - accuracy: 0.8031WARNING:tensorflow:Early stopping conditioned on metric `val_acc` which is not available. Available metrics are: loss,accuracy,val_loss,val_accuracy\n",
            "16/16 [==============================] - 0s 28ms/step - loss: 0.5970 - accuracy: 0.8050 - val_loss: 0.3871 - val_accuracy: 0.8854\n",
            "Epoch 6/12\n",
            "14/16 [=========================>....] - ETA: 0s - loss: 0.5104 - accuracy: 0.8343WARNING:tensorflow:Early stopping conditioned on metric `val_acc` which is not available. Available metrics are: loss,accuracy,val_loss,val_accuracy\n",
            "16/16 [==============================] - 0s 29ms/step - loss: 0.5192 - accuracy: 0.8325 - val_loss: 0.3438 - val_accuracy: 0.9069\n",
            "Epoch 7/12\n",
            "15/16 [===========================>..] - ETA: 0s - loss: 0.4502 - accuracy: 0.8599WARNING:tensorflow:Early stopping conditioned on metric `val_acc` which is not available. Available metrics are: loss,accuracy,val_loss,val_accuracy\n",
            "16/16 [==============================] - 0s 29ms/step - loss: 0.4454 - accuracy: 0.8610 - val_loss: 0.2709 - val_accuracy: 0.9251\n",
            "Epoch 8/12\n",
            "13/16 [=======================>......] - ETA: 0s - loss: 0.3934 - accuracy: 0.8774WARNING:tensorflow:Early stopping conditioned on metric `val_acc` which is not available. Available metrics are: loss,accuracy,val_loss,val_accuracy\n",
            "16/16 [==============================] - 0s 29ms/step - loss: 0.3886 - accuracy: 0.8800 - val_loss: 0.2448 - val_accuracy: 0.9286\n",
            "Epoch 9/12\n",
            "15/16 [===========================>..] - ETA: 0s - loss: 0.3579 - accuracy: 0.8938WARNING:tensorflow:Early stopping conditioned on metric `val_acc` which is not available. Available metrics are: loss,accuracy,val_loss,val_accuracy\n",
            "16/16 [==============================] - 0s 29ms/step - loss: 0.3545 - accuracy: 0.8950 - val_loss: 0.2225 - val_accuracy: 0.9331\n",
            "Epoch 10/12\n",
            "13/16 [=======================>......] - ETA: 0s - loss: 0.3211 - accuracy: 0.9099WARNING:tensorflow:Early stopping conditioned on metric `val_acc` which is not available. Available metrics are: loss,accuracy,val_loss,val_accuracy\n",
            "16/16 [==============================] - 0s 29ms/step - loss: 0.3187 - accuracy: 0.9100 - val_loss: 0.2165 - val_accuracy: 0.9365\n",
            "Epoch 11/12\n",
            "13/16 [=======================>......] - ETA: 0s - loss: 0.2831 - accuracy: 0.9111WARNING:tensorflow:Early stopping conditioned on metric `val_acc` which is not available. Available metrics are: loss,accuracy,val_loss,val_accuracy\n",
            "16/16 [==============================] - 0s 30ms/step - loss: 0.2905 - accuracy: 0.9090 - val_loss: 0.2245 - val_accuracy: 0.9308\n",
            "Epoch 12/12\n",
            "14/16 [=========================>....] - ETA: 0s - loss: 0.2774 - accuracy: 0.9191WARNING:tensorflow:Early stopping conditioned on metric `val_acc` which is not available. Available metrics are: loss,accuracy,val_loss,val_accuracy\n",
            "16/16 [==============================] - 0s 30ms/step - loss: 0.2678 - accuracy: 0.9195 - val_loss: 0.2054 - val_accuracy: 0.9365\n"
          ],
          "name": "stdout"
        }
      ]
    },
    {
      "cell_type": "markdown",
      "metadata": {
        "id": "M6_xZcGj7hhK"
      },
      "source": [
        "#Step 4 - Evaluate the model on the test set and print the results.\n",
        "Pass the independent test data through the trained model and compute the test set cross-entropy  and test classification accuracy.\n",
        "For the first ten examples in the test set show us the examples and the associated network predictions.\n",
        "\n"
      ]
    },
    {
      "cell_type": "code",
      "metadata": {
        "id": "QnrQvnpf7gcm",
        "outputId": "cdd9d8c5-20f4-47bd-bb1f-9be8132ca847",
        "colab": {
          "base_uri": "https://localhost:8080/",
          "height": 114
        }
      },
      "source": [
        "score = model.evaluate(x_test, y_test, verbose=0)\n",
        "print('Test loss:', score[0])\n",
        "print('Test accuracy:', score[1])\n",
        "\n",
        "predictions = model.predict(x_test, verbose=0)\n",
        "for i in range(10):\n",
        "    subplt = plt.subplot(int(i / 10) + 1, 10, i + 1)\n",
        "    # no sense in showing labels if they don't match the letter\n",
        "    hot_index = np.argmax(predictions[i])\n",
        "    subplt.set_title('P:{0}'.format(hot_index))\n",
        "    subplt.axis('off')\n",
        "    letter = x_test[i]\n",
        "    subplt.matshow(np.reshape(letter, [28, 28]))\n",
        "    plt.draw()\n",
        "    \n",
        "plt.show()"
      ],
      "execution_count": 10,
      "outputs": [
        {
          "output_type": "stream",
          "text": [
            "Test loss: 0.21239741146564484\n",
            "Test accuracy: 0.9329000115394592\n"
          ],
          "name": "stdout"
        },
        {
          "output_type": "display_data",
          "data": {
            "image/png": "[encoded data removed]",
            "text/plain": [
              "<Figure size 432x288 with 10 Axes>"
            ]
          },
          "metadata": {
            "tags": [],
            "needs_background": "light"
          }
        }
      ]
    }
  ]
}